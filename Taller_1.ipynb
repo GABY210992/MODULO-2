{
 "cells": [
  {
   "cell_type": "code",
   "execution_count": 1,
   "id": "738aeb4f",
   "metadata": {},
   "outputs": [
    {
     "name": "stdout",
     "output_type": "stream",
     "text": [
      "Contenido del archivo:\n",
      "  InvoiceNo StockCode                          Description  Quantity  \\\n",
      "0    536365    85123A   WHITE HANGING HEART T-LIGHT HOLDER         6   \n",
      "1    536365     71053                  WHITE METAL LANTERN         6   \n",
      "2    536365    84406B       CREAM CUPID HEARTS COAT HANGER         8   \n",
      "3    536365    84029G  KNITTED UNION FLAG HOT WATER BOTTLE         6   \n",
      "4    536365    84029E       RED WOOLLY HOTTIE WHITE HEART.         6   \n",
      "\n",
      "          InvoiceDate  UnitPrice  CustomerID         Country  \n",
      "0 2010-12-01 08:26:00       2.55     17850.0  United Kingdom  \n",
      "1 2010-12-01 08:26:00       3.39     17850.0  United Kingdom  \n",
      "2 2010-12-01 08:26:00       2.75     17850.0  United Kingdom  \n",
      "3 2010-12-01 08:26:00       3.39     17850.0  United Kingdom  \n",
      "4 2010-12-01 08:26:00       3.39     17850.0  United Kingdom  \n"
     ]
    }
   ],
   "source": [
    "import pandas as pd\n",
    "\n",
    "# Especificar la ruta del archivo\n",
    "ruta_archivo = r'C:\\Users\\Patricio\\Documents\\MAESTRIA\\MODULO_2\\Online Retail.xlsx'\n",
    "\n",
    "# Leer el archivo Excel\n",
    "df = pd.read_excel(ruta_archivo)\n",
    "\n",
    "# Mostrar las primeras filas del DataFrame\n",
    "print(\"Contenido del archivo:\")\n",
    "print(df.head())"
   ]
  },
  {
   "cell_type": "code",
   "execution_count": 16,
   "id": "851f1ee1",
   "metadata": {},
   "outputs": [
    {
     "name": "stdout",
     "output_type": "stream",
     "text": [
      "Duplicados eliminados y datos guardados en 'Online_Retail_Limpiado.xlsx'\n",
      "Duplicados eliminados: 5268\n"
     ]
    }
   ],
   "source": [
    "# Eliminar duplicados\n",
    "datos_limpiados = df.drop_duplicates()\n",
    "\n",
    "# Guardar el nuevo archivo limpio\n",
    "datos_limpiados.to_excel('Online_Retail_Limpiado.xlsx', index=False)\n",
    "\n",
    "print(\"Duplicados eliminados y datos guardados en 'Online_Retail_Limpiado.xlsx'\")\n",
    "# Cantidad de filas antes de eliminar duplicados\n",
    "filas_antes = len(df)\n",
    "\n",
    "# Cantidad de filas después de eliminar duplicados\n",
    "filas_despues = len(datos_limpiados)\n",
    "\n",
    "# Número de duplicados eliminados\n",
    "duplicados_eliminados = filas_antes - filas_despues\n",
    "\n",
    "print(f\"Duplicados eliminados: {duplicados_eliminados}\")"
   ]
  },
  {
   "cell_type": "code",
   "execution_count": 32,
   "id": "bce863e2",
   "metadata": {},
   "outputs": [
    {
     "name": "stdout",
     "output_type": "stream",
     "text": [
      "Cantidad de filas después de limpiar: 488225\n"
     ]
    }
   ],
   "source": [
    "# Eliminar filas con valores negativos en 'Quantity' y 'UnitPrice'\n",
    "datos_limpiados = datos_limpiados[(datos_limpiados['Quantity'] >= 0) & (datos_limpiados['UnitPrice'] >= 0)]\n",
    "\n",
    "# Mostrar la cantidad de filas restantes después de limpiar\n",
    "print(f\"Cantidad de filas después de limpiar: {datos_limpiados.shape[0]}\")"
   ]
  },
  {
   "cell_type": "code",
   "execution_count": 33,
   "id": "865dcddf",
   "metadata": {},
   "outputs": [
    {
     "name": "stdout",
     "output_type": "stream",
     "text": [
      "Cantidad de filas después de eliminar outliers: 471084\n"
     ]
    }
   ],
   "source": [
    "Q1 = datos_limpiados['UnitPrice'].quantile(0.25)\n",
    "Q3 = datos_limpiados['UnitPrice'].quantile(0.75)\n",
    "IQR = Q3 - Q1\n",
    "datos_limpiados = datos_limpiados[(datos_limpiados['UnitPrice'] >= Q1 - 1.5 * IQR) & (datos_limpiados['UnitPrice'] <= Q3 + 1.5 * IQR)]\n",
    "print(f\"Cantidad de filas después de eliminar outliers: {datos_limpiados.shape[0]}\")"
   ]
  },
  {
   "cell_type": "code",
   "execution_count": 41,
   "id": "2cf3e02e",
   "metadata": {},
   "outputs": [
    {
     "name": "stdout",
     "output_type": "stream",
     "text": [
      "Cantidad de filas después de eliminar valores nulos: 470492\n"
     ]
    }
   ],
   "source": [
    "datos_limpiados = datos_limpiados.dropna()\n",
    "print(f\"Cantidad de filas después de eliminar valores nulos: {datos_limpiados.shape[0]}\")"
   ]
  }
 ],
 "metadata": {
  "kernelspec": {
   "display_name": "base",
   "language": "python",
   "name": "python3"
  },
  "language_info": {
   "codemirror_mode": {
    "name": "ipython",
    "version": 3
   },
   "file_extension": ".py",
   "mimetype": "text/x-python",
   "name": "python",
   "nbconvert_exporter": "python",
   "pygments_lexer": "ipython3",
   "version": "3.9.21"
  }
 },
 "nbformat": 4,
 "nbformat_minor": 5
}
